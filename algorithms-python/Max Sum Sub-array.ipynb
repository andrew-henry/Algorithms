{
 "cells": [
  {
   "cell_type": "markdown",
   "metadata": {},
   "source": [
    "### Max Sum Sub-array"
   ]
  },
  {
   "cell_type": "code",
   "execution_count": 1,
   "metadata": {},
   "outputs": [],
   "source": [
    "def one_loop(array):\n",
    "    \n",
    "    n = len(array)\n",
    "    \n",
    "    max_sum = array[0]\n",
    "    \n",
    "    current_sum = array[0]\n",
    "    \n",
    "    for i in range(1, n):\n",
    "        \n",
    "        current_sum = max(current_sum + array[i], array[i])\n",
    "        max_sum = max(max_sum, current_sum)\n",
    "        \n",
    "    return max_sum"
   ]
  },
  {
   "cell_type": "code",
   "execution_count": 2,
   "metadata": {},
   "outputs": [],
   "source": [
    "def two_loops(array):\n",
    "    \n",
    "    n = len(array)\n",
    "    \n",
    "    max_sum = array[0]\n",
    "    \n",
    "    for start in range(n):\n",
    "        \n",
    "        current_sum = 0\n",
    "        \n",
    "        for end in range(start, n):\n",
    "            \n",
    "            current_sum += array[end]\n",
    "            \n",
    "            if current_sum > max_sum:\n",
    "                max_sum = current_sum\n",
    "                \n",
    "    return max_sum"
   ]
  },
  {
   "cell_type": "code",
   "execution_count": 3,
   "metadata": {},
   "outputs": [],
   "source": [
    "def three_loops(array):\n",
    "    \n",
    "    n = len(array)\n",
    "    \n",
    "    max_sum = array[0]\n",
    "    \n",
    "    for start in range(n):\n",
    "        \n",
    "        for end in range(start, n):\n",
    "            \n",
    "            current_sum = sum(array[start:end + 1])\n",
    "            \n",
    "            if current_sum > max_sum:\n",
    "                max_sum = current_sum\n",
    "                \n",
    "    return max_sum\n"
   ]
  },
  {
   "cell_type": "code",
   "execution_count": 4,
   "metadata": {},
   "outputs": [],
   "source": [
    "array_one = [3, 4, -9, 1, 2]\n",
    "array_two = [1, 2, 3]\n",
    "array_three = [-1, -2, -3]"
   ]
  },
  {
   "cell_type": "code",
   "execution_count": 5,
   "metadata": {},
   "outputs": [],
   "source": [
    "assert one_loop(array_three) == two_loops(array_three)\n",
    "assert one_loop(array_two) == two_loops(array_two)"
   ]
  },
  {
   "cell_type": "code",
   "execution_count": 6,
   "metadata": {},
   "outputs": [],
   "source": [
    "assert three_loops(array_three) == two_loops(array_three)\n",
    "assert three_loops(array_two) == two_loops(array_two)"
   ]
  },
  {
   "cell_type": "code",
   "execution_count": 7,
   "metadata": {},
   "outputs": [],
   "source": [
    "assert one_loop(array_one) == two_loops(array_one)\n",
    "assert three_loops(array_one) == two_loops(array_one)"
   ]
  },
  {
   "cell_type": "code",
   "execution_count": null,
   "metadata": {},
   "outputs": [],
   "source": []
  }
 ],
 "metadata": {
  "kernelspec": {
   "display_name": "Python 3",
   "language": "python",
   "name": "python3"
  },
  "language_info": {
   "codemirror_mode": {
    "name": "ipython",
    "version": 3
   },
   "file_extension": ".py",
   "mimetype": "text/x-python",
   "name": "python",
   "nbconvert_exporter": "python",
   "pygments_lexer": "ipython3",
   "version": "3.7.3"
  }
 },
 "nbformat": 4,
 "nbformat_minor": 2
}
