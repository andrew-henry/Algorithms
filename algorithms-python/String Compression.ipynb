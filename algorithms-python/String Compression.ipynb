{
 "cells": [
  {
   "cell_type": "code",
   "execution_count": 1,
   "metadata": {},
   "outputs": [],
   "source": [
    "def string_compression(string_ex):\n",
    "    \n",
    "    a = \"\"\n",
    "    b = len(string_ex)\n",
    "    \n",
    "    if b == 0:\n",
    "        return \"\"\n",
    "    \n",
    "    if b == 1:\n",
    "        return string + \"1\"\n",
    "    \n",
    "    last = string_ex[0]\n",
    "    \n",
    "    counter = 1\n",
    "    c = 1\n",
    "    \n",
    "    while c < b:\n",
    "        \n",
    "        if string_ex[c] == string_ex[c -1]:\n",
    "            counter += 1\n",
    "            \n",
    "        else:\n",
    "            a = a +string_ex[c-1] + str(counter)\n",
    "            counter = 1\n",
    "            \n",
    "        c += 1\n",
    "        \n",
    "    a = a + string_ex[c-1] + str(counter)\n",
    "    \n",
    "    return a"
   ]
  },
  {
   "cell_type": "code",
   "execution_count": 2,
   "metadata": {},
   "outputs": [
    {
     "data": {
      "text/plain": [
       "'a3A7B1b3C1'"
      ]
     },
     "execution_count": 2,
     "metadata": {},
     "output_type": "execute_result"
    }
   ],
   "source": [
    "string_compression('aaaAAAAAAABbbbC')"
   ]
  },
  {
   "cell_type": "code",
   "execution_count": null,
   "metadata": {},
   "outputs": [],
   "source": []
  }
 ],
 "metadata": {
  "kernelspec": {
   "display_name": "Python 3",
   "language": "python",
   "name": "python3"
  },
  "language_info": {
   "codemirror_mode": {
    "name": "ipython",
    "version": 3
   },
   "file_extension": ".py",
   "mimetype": "text/x-python",
   "name": "python",
   "nbconvert_exporter": "python",
   "pygments_lexer": "ipython3",
   "version": "3.7.3"
  }
 },
 "nbformat": 4,
 "nbformat_minor": 2
}
