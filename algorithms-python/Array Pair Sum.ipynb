{
 "cells": [
  {
   "cell_type": "markdown",
   "metadata": {},
   "source": [
    "## Array Pair Sum\n",
    "\n",
    "\n",
    "\n",
    "\n",
    "* Given an interger array, output all the unique pairs that sum up to a specific value k\n"
   ]
  },
  {
   "cell_type": "code",
   "execution_count": 1,
   "metadata": {},
   "outputs": [],
   "source": [
    "def pair_sum_func(arr, n):\n",
    "    \n",
    "    if len(arr) < 2:\n",
    "        return\n",
    "    \n",
    "    seen = set()\n",
    "    output = set()\n",
    "    \n",
    "    for number in arr:\n",
    "        \n",
    "        target = n - number\n",
    "        \n",
    "        if target not in seen:\n",
    "            seen.add(number)\n",
    "            \n",
    "        else:\n",
    "            output.add( ( (min(number, target)), max(number,target)  ) )\n",
    "            \n",
    "            \n",
    "    print('There are {} pairs'.format(len(output)))\n",
    "    print( '\\n'.join(map(str, list(output))))\n"
   ]
  },
  {
   "cell_type": "code",
   "execution_count": 2,
   "metadata": {},
   "outputs": [
    {
     "name": "stdout",
     "output_type": "stream",
     "text": [
      "There are 4 pairs\n",
      "(3, 7)\n",
      "(1, 9)\n",
      "(4, 6)\n",
      "(2, 8)\n"
     ]
    }
   ],
   "source": [
    "pair_sum_func([1, 2, 3, 4, 5, 6, 7, 8, 9, 10], 10)"
   ]
  },
  {
   "cell_type": "code",
   "execution_count": null,
   "metadata": {},
   "outputs": [],
   "source": []
  }
 ],
 "metadata": {
  "kernelspec": {
   "display_name": "Python 3",
   "language": "python",
   "name": "python3"
  },
  "language_info": {
   "codemirror_mode": {
    "name": "ipython",
    "version": 3
   },
   "file_extension": ".py",
   "mimetype": "text/x-python",
   "name": "python",
   "nbconvert_exporter": "python",
   "pygments_lexer": "ipython3",
   "version": "3.7.3"
  }
 },
 "nbformat": 4,
 "nbformat_minor": 2
}
