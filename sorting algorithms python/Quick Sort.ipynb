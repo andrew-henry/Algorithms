{
 "cells": [
  {
   "cell_type": "code",
   "execution_count": 1,
   "metadata": {},
   "outputs": [],
   "source": [
    "def quick_sort(arr):\n",
    "    \n",
    "    quick_sort_help(arr, 0, len(arr) - 1)\n",
    "    \n",
    "def quick_sort_help(arr, first, last):\n",
    "    \n",
    "    if first < last:\n",
    "        \n",
    "        splitpoint = partition(arr, first, last)\n",
    "        \n",
    "        quick_sort_help(arr, first, splitpoint - 1)\n",
    "        quick_sort_help(arr, splitpoint + 1, last)\n",
    "        \n",
    "def partition(arr, first, last):\n",
    "    \n",
    "    pivotvalue = arr[first]\n",
    "    \n",
    "    leftmark = first + 1\n",
    "    rightmark = last\n",
    "    \n",
    "    done = False\n",
    "    \n",
    "    while not done:\n",
    "        while leftmark <= rightmark and arr[leftmark] <= pivotvalue:\n",
    "            leftmark += 1\n",
    "            \n",
    "        while arr[rightmark] >= pivotvalue and rightmark >= leftmark:\n",
    "            rightmark -= 1\n",
    "            \n",
    "        if rightmark < leftmark:\n",
    "            done = True\n",
    "            \n",
    "        else:\n",
    "            temp = arr[leftmark]\n",
    "            arr[leftmark] = arr[rightmark]\n",
    "            arr[rightmark] = temp\n",
    "            \n",
    "    temp = arr[first]\n",
    "    arr[first] = arr[rightmark]\n",
    "    arr[rightmark] = temp\n",
    "    \n",
    "    return rightmark"
   ]
  },
  {
   "cell_type": "code",
   "execution_count": 2,
   "metadata": {},
   "outputs": [],
   "source": [
    "arr = [79, 45, 73, 23, 77, 12, 9, 2, 18, 1]"
   ]
  },
  {
   "cell_type": "code",
   "execution_count": 3,
   "metadata": {},
   "outputs": [],
   "source": [
    "quick_sort(arr)"
   ]
  },
  {
   "cell_type": "code",
   "execution_count": 4,
   "metadata": {},
   "outputs": [
    {
     "data": {
      "text/plain": [
       "[1, 2, 9, 12, 18, 23, 45, 73, 77, 79]"
      ]
     },
     "execution_count": 4,
     "metadata": {},
     "output_type": "execute_result"
    }
   ],
   "source": [
    "arr"
   ]
  },
  {
   "cell_type": "code",
   "execution_count": null,
   "metadata": {},
   "outputs": [],
   "source": []
  }
 ],
 "metadata": {
  "kernelspec": {
   "display_name": "Python 3",
   "language": "python",
   "name": "python3"
  },
  "language_info": {
   "codemirror_mode": {
    "name": "ipython",
    "version": 3
   },
   "file_extension": ".py",
   "mimetype": "text/x-python",
   "name": "python",
   "nbconvert_exporter": "python",
   "pygments_lexer": "ipython3",
   "version": "3.7.3"
  }
 },
 "nbformat": 4,
 "nbformat_minor": 2
}
